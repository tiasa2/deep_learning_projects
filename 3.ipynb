{
  "nbformat": 4,
  "nbformat_minor": 0,
  "metadata": {
    "colab": {
      "name": "3.ipynb",
      "provenance": [],
      "collapsed_sections": []
    },
    "kernelspec": {
      "name": "python3",
      "display_name": "Python 3"
    }
  },
  "cells": [
    {
      "cell_type": "code",
      "metadata": {
        "id": "9UuUKAvObop5",
        "colab_type": "code",
        "colab": {}
      },
      "source": [
        "%matplotlib inline\n",
        "%config InlineBackend.figure_format = 'retina'\n",
        "import matplotlib.pyplot as plt\n",
        "plt.style.use('ggplot')\n",
        "import pandas as pd\n",
        "import numpy as np\n",
        "import seaborn as sns\n",
        "import warnings\n",
        "import os\n",
        "import pickle\n",
        "\n",
        "warnings.filterwarnings('ignore')\n",
        "pd.options.display.float_format = '{:,.2f}'.format\n",
        "pd.set_option('display.max_rows', 100)\n",
        "pd.set_option('display.max_columns', 200)\n",
        "\n",
        "from __future__ import print_function\n",
        "from keras.models import Model, Sequential, load_model\n",
        "from keras.layers import Dense, Input, Conv2D, MaxPooling2D, Flatten, Dropout\n",
        "from keras.datasets import mnist\n",
        "from keras.optimizers import Adam\n",
        "from keras.preprocessing import image\n",
        "from keras.applications import VGG16\n",
        "from keras.preprocessing.image import ImageDataGenerator\n",
        "from keras.callbacks import EarlyStopping\n",
        "from keras import backend as K\n",
        "from vis.utils import utils\n",
        "from keras import activations\n",
        "from vis.input_modifiers import Jitter"
      ],
      "execution_count": null,
      "outputs": []
    },
    {
      "cell_type": "code",
      "metadata": {
        "id": "1xKdJpRmbrrE",
        "colab_type": "code",
        "colab": {}
      },
      "source": [
        "def smooth_curve(points, factor=0.8):\n",
        "    smoothed = []\n",
        "    for point in points:\n",
        "        if smoothed:\n",
        "            previous = smoothed[-1]\n",
        "            smoothed.append(previous * factor + point * (1 - factor))\n",
        "        else:\n",
        "            smoothed.append(point)\n",
        "    return smoothed\n",
        "\n",
        "def plot_compare(history, steps=-1):\n",
        "    if steps < 0:\n",
        "        steps = len(history.history['acc'])\n",
        "    acc = smooth_curve(history.history['acc'][:steps])\n",
        "    val_acc = smooth_curve(history.history['val_acc'][:steps])\n",
        "    loss = smooth_curve(history.history['loss'][:steps])\n",
        "    val_loss = smooth_curve(history.history['val_loss'][:steps])\n",
        "    \n",
        "    plt.figure(figsize=(6, 4))\n",
        "    plt.plot(loss, c='#0c7cba', label='Train Loss')\n",
        "    plt.plot(val_loss, c='#0f9d58', label='Val Loss')\n",
        "    plt.xticks(range(0, len(loss), 5))\n",
        "    plt.xlim(0, len(loss))\n",
        "    plt.title('Train Loss: %.3f, Val Loss: %.3f' % (loss[-1], val_loss[-1]), fontsize=12)\n",
        "    plt.legend()\n",
        "    \n",
        "    plt.figure(figsize=(6, 4))\n",
        "    plt.plot(acc, c='#0c7cba', label='Train Acc')\n",
        "    plt.plot(val_acc, c='#0f9d58', label='Val Acc')\n",
        "    plt.xticks(range(0, len(acc), 5))\n",
        "    plt.xlim(0, len(acc))\n",
        "    plt.title('Train Accuracy: %.3f, Val Accuracy: %.3f' % (acc[-1], val_acc[-1]), fontsize=12)\n",
        "    plt.legend()\n",
        "    \n",
        "def deprocess_image(x):\n",
        "    x -= x.mean()\n",
        "    x /= (x.std() + 1e-5)\n",
        "    x *= 0.1\n",
        "    x += 0.5\n",
        "    x = np.clip(x, 0, 1)\n",
        "    x *= 255\n",
        "    x = np.clip(x, 0, 255).astype('uint8')\n",
        "    return x\n",
        " \n",
        "def save_history(history, fn):\n",
        "    with open(fn, 'wb') as fw:\n",
        "        pickle.dump(history.history, fw, protocol=2)\n",
        "\n",
        "def load_history(fn):\n",
        "    class Temp():\n",
        "        pass\n",
        "    history = Temp()\n",
        "    with open(fn, 'rb') as fr:\n",
        "        history.history = pickle.load(fr)\n",
        "    return history\n",
        "\n",
        "def jitter(img, amount=32):\n",
        "    ox, oy = np.random.randint(-amount, amount+1, 2)\n",
        "    return np.roll(np.roll(img, ox, -1), oy, -2), ox, oy\n",
        "\n",
        "def reverse_jitter(img, ox, oy):\n",
        "    return np.roll(np.roll(img, -ox, -1), -oy, -2)\n",
        "\n",
        "def plot_image(img):\n",
        "    plt.figure(figsize=(6, 6))\n",
        "    plt.imshow(img)\n",
        "    plt.axis('off')"
      ],
      "execution_count": null,
      "outputs": []
    },
    {
      "cell_type": "code",
      "metadata": {
        "id": "Av0UCo27b3am",
        "colab_type": "code",
        "colab": {}
      },
      "source": [
        "model = Sequential()\n",
        "model.add(Conv2D(32, (3, 3), activation='relu', padding='same', name='conv_1', \n",
        "                 input_shape=(150, 150, 3)))\n",
        "model.add(MaxPooling2D((2, 2), name='maxpool_1'))\n",
        "model.add(Conv2D(64, (3, 3), activation='relu', padding='same', name='conv_2'))\n",
        "model.add(MaxPooling2D((2, 2), name='maxpool_2'))\n",
        "model.add(Conv2D(128, (3, 3), activation='relu', padding='same', name='conv_3'))\n",
        "model.add(MaxPooling2D((2, 2), name='maxpool_3'))\n",
        "model.add(Conv2D(128, (3, 3), activation='relu', padding='same', name='conv_4'))\n",
        "model.add(MaxPooling2D((2, 2), name='maxpool_4'))\n",
        "model.add(Flatten())\n",
        "model.add(Dropout(0.5))\n",
        "model.add(Dense(512, activation='relu', name='dense_1'))\n",
        "model.add(Dense(256, activation='relu', name='dense_2'))\n",
        "model.add(Dense(1, activation='sigmoid', name='output'))\n",
        "\n",
        "model.compile(optimizer='adam', loss='binary_crossentropy', metrics=['accuracy'])"
      ],
      "execution_count": null,
      "outputs": []
    },
    {
      "cell_type": "code",
      "metadata": {
        "id": "q_QEuSRKc73_",
        "colab_type": "code",
        "colab": {}
      },
      "source": [
        "base_dir = ''\n",
        "train_dir = os.path.join(base_dir, 'train')\n",
        "validation_dir = os.path.join(base_dir, 'validation')\n",
        "test_dir = os.path.join(base_dir, 'test')\n",
        "\n",
        "train_datagen = ImageDataGenerator(rescale=1./255)\n",
        "test_datagen = ImageDataGenerator(rescale=1./255)\n",
        "\n",
        "train_generator = train_datagen.flow_from_directory(\n",
        "        train_dir,\n",
        "        target_size=(150, 150),\n",
        "        batch_size=20,\n",
        "        class_mode='binary')\n",
        "\n",
        "validation_generator = test_datagen.flow_from_directory(\n",
        "        validation_dir,\n",
        "        target_size=(150, 150),\n",
        "        batch_size=20,\n",
        "        class_mode='binary')"
      ],
      "execution_count": null,
      "outputs": []
    },
    {
      "cell_type": "code",
      "metadata": {
        "id": "O0BLqZ1Ic_Mf",
        "colab_type": "code",
        "colab": {}
      },
      "source": [
        "def smooth_curve(points, factor=0.8):\n",
        "    smoothed = []\n",
        "    for point in points:\n",
        "        if smoothed:\n",
        "            previous = smoothed[-1]\n",
        "            smoothed.append(previous * factor + point * (1 - factor))\n",
        "        else:\n",
        "            smoothed.append(point)\n",
        "    return smoothed\n",
        "\n",
        "def plot_compare(history, steps=-1):\n",
        "    if steps < 0:\n",
        "        steps = len(history.history['acc'])\n",
        "    acc = smooth_curve(history.history['acc'][:steps])\n",
        "    val_acc = smooth_curve(history.history['val_acc'][:steps])\n",
        "    loss = smooth_curve(history.history['loss'][:steps])\n",
        "    val_loss = smooth_curve(history.history['val_loss'][:steps])\n",
        "    \n",
        "    plt.figure(figsize=(6, 4))\n",
        "    plt.plot(loss, c='#0c7cba', label='Train Loss')\n",
        "    plt.plot(val_loss, c='#0f9d58', label='Val Loss')\n",
        "    plt.xticks(range(0, len(loss), 5))\n",
        "    plt.xlim(0, len(loss))\n",
        "    plt.title('Train Loss: %.3f, Val Loss: %.3f' % (loss[-1], val_loss[-1]), fontsize=12)\n",
        "    plt.legend()\n",
        "    \n",
        "    plt.figure(figsize=(6, 4))\n",
        "    plt.plot(acc, c='#0c7cba', label='Train Acc')\n",
        "    plt.plot(val_acc, c='#0f9d58', label='Val Acc')\n",
        "    plt.xticks(range(0, len(acc), 5))\n",
        "    plt.xlim(0, len(acc))\n",
        "    plt.title('Train Accuracy: %.3f, Val Accuracy: %.3f' % (acc[-1], val_acc[-1]), fontsize=12)\n",
        "    plt.legend()\n",
        "    \n",
        "def deprocess_image(x):\n",
        "    x -= x.mean()\n",
        "    x /= (x.std() + 1e-5)\n",
        "    x *= 0.1\n",
        "    x += 0.5\n",
        "    x = np.clip(x, 0, 1)\n",
        "    x *= 255\n",
        "    x = np.clip(x, 0, 255).astype('uint8')\n",
        "    return x\n",
        " \n",
        "def save_history(history, fn):\n",
        "    with open(fn, 'wb') as fw:\n",
        "        pickle.dump(history.history, fw, protocol=2)\n",
        "\n",
        "def load_history(fn):\n",
        "    class Temp():\n",
        "        pass\n",
        "    history = Temp()\n",
        "    with open(fn, 'rb') as fr:\n",
        "        history.history = pickle.load(fr)\n",
        "    return history\n",
        "\n",
        "def jitter(img, amount=32):\n",
        "    ox, oy = np.random.randint(-amount, amount+1, 2)\n",
        "    return np.roll(np.roll(img, ox, -1), oy, -2), ox, oy\n",
        "\n",
        "def reverse_jitter(img, ox, oy):\n",
        "    return np.roll(np.roll(img, -ox, -1), -oy, -2)\n",
        "\n",
        "def plot_image(img):\n",
        "    plt.figure(figsize=(6, 6))\n",
        "    plt.imshow(img)\n",
        "    plt.axis('off')\n"
      ],
      "execution_count": null,
      "outputs": []
    },
    {
      "cell_type": "code",
      "metadata": {
        "id": "VRqv_eyof09q",
        "colab_type": "code",
        "colab": {}
      },
      "source": [
        "model = Sequential()\n",
        "model.add(Conv2D(32, (3, 3), activation='relu', padding='same', name='conv_1', \n",
        "                 input_shape=(150, 150, 3)))\n",
        "model.add(MaxPooling2D((2, 2), name='maxpool_1'))\n",
        "model.add(Conv2D(64, (3, 3), activation='relu', padding='same', name='conv_2'))\n",
        "model.add(MaxPooling2D((2, 2), name='maxpool_2'))\n",
        "model.add(Conv2D(128, (3, 3), activation='relu', padding='same', name='conv_3'))\n",
        "model.add(MaxPooling2D((2, 2), name='maxpool_3'))\n",
        "model.add(Conv2D(128, (3, 3), activation='relu', padding='same', name='conv_4'))\n",
        "model.add(MaxPooling2D((2, 2), name='maxpool_4'))\n",
        "model.add(Flatten())\n",
        "model.add(Dropout(0.5))\n",
        "model.add(Dense(512, activation='relu', name='dense_1'))\n",
        "model.add(Dense(256, activation='relu', name='dense_2'))\n",
        "model.add(Dense(1, activation='sigmoid', name='output'))\n",
        "\n",
        "model.compile(optimizer='adam', loss='binary_crossentropy', metrics=['accuracy'])"
      ],
      "execution_count": null,
      "outputs": []
    },
    {
      "cell_type": "code",
      "metadata": {
        "id": "ecr6fAMOf5rK",
        "colab_type": "code",
        "colab": {}
      },
      "source": [
        "base_dir = '/home/ardend/code/applied_deep_learning/data/cats_and_dogs_small'\n",
        "train_dir = os.path.join(base_dir, 'train')\n",
        "validation_dir = os.path.join(base_dir, 'validation')\n",
        "test_dir = os.path.join(base_dir, 'test')\n",
        "\n",
        "train_datagen = ImageDataGenerator(rescale=1./255)\n",
        "test_datagen = ImageDataGenerator(rescale=1./255)\n",
        "\n",
        "train_generator = train_datagen.flow_from_directory(\n",
        "        train_dir,\n",
        "        target_size=(150, 150),\n",
        "        batch_size=20,\n",
        "        class_mode='binary')\n",
        "\n",
        "validation_generator = test_datagen.flow_from_directory(\n",
        "        validation_dir,\n",
        "        target_size=(150, 150),\n",
        "        batch_size=20,\n",
        "        class_mode='binary')"
      ],
      "execution_count": null,
      "outputs": []
    },
    {
      "cell_type": "code",
      "metadata": {
        "id": "Hs7dUHUcf_uG",
        "colab_type": "code",
        "colab": {}
      },
      "source": [
        "history = model.fit_generator(train_generator, steps_per_epoch=100, epochs=20, \n",
        "                              validation_data=validation_generator, validation_steps=50, verbose=1)"
      ],
      "execution_count": null,
      "outputs": []
    },
    {
      "cell_type": "code",
      "metadata": {
        "id": "kwj59bBygCnu",
        "colab_type": "code",
        "colab": {}
      },
      "source": [
        "model.save('model.h5')\n",
        "save_history(history, 'history.bin')"
      ],
      "execution_count": null,
      "outputs": []
    },
    {
      "cell_type": "code",
      "metadata": {
        "id": "acGbK7W3gGQX",
        "colab_type": "code",
        "colab": {}
      },
      "source": [
        "history = load_history('history.bin')\n",
        "plot_compare(history)"
      ],
      "execution_count": null,
      "outputs": []
    },
    {
      "cell_type": "code",
      "metadata": {
        "id": "-cdrP2F1gIYL",
        "colab_type": "code",
        "colab": {}
      },
      "source": [
        "model_aug = Sequential()\n",
        "model_aug.add(Conv2D(32, (3, 3), activation='relu', padding='same', name='conv_1', \n",
        "                 input_shape=(150, 150, 3)))\n",
        "model_aug.add(MaxPooling2D((2, 2), name='maxpool_1'))\n",
        "model_aug.add(Conv2D(64, (3, 3), activation='relu', padding='same', name='conv_2'))\n",
        "model_aug.add(MaxPooling2D((2, 2), name='maxpool_2'))\n",
        "model_aug.add(Conv2D(128, (3, 3), activation='relu', padding='same', name='conv_3'))\n",
        "model_aug.add(MaxPooling2D((2, 2), name='maxpool_3'))\n",
        "model_aug.add(Conv2D(128, (3, 3), activation='relu', padding='same', name='conv_4'))\n",
        "model_aug.add(MaxPooling2D((2, 2), name='maxpool_4'))\n",
        "model_aug.add(Flatten())\n",
        "model_aug.add(Dropout(0.5))\n",
        "model_aug.add(Dense(512, activation='relu', name='dense_1'))\n",
        "model_aug.add(Dense(256, activation='relu', name='dense_2'))\n",
        "model_aug.add(Dense(1, activation='sigmoid', name='output'))"
      ],
      "execution_count": null,
      "outputs": []
    },
    {
      "cell_type": "code",
      "metadata": {
        "id": "qhLiMBM6gMZi",
        "colab_type": "code",
        "colab": {}
      },
      "source": [
        "model_aug.compile(optimizer='adam', loss='binary_crossentropy', metrics=['accuracy'])"
      ],
      "execution_count": null,
      "outputs": []
    },
    {
      "cell_type": "code",
      "metadata": {
        "id": "nleAvO5mgOvJ",
        "colab_type": "code",
        "colab": {}
      },
      "source": [
        "train_datagen = ImageDataGenerator(\n",
        "    rescale=1./255,\n",
        "    rotation_range=40,\n",
        "    width_shift_range=0.2,\n",
        "    height_shift_range=0.2,\n",
        "    shear_range=0.2,\n",
        "    zoom_range=0.2,\n",
        "    horizontal_flip=True,)\n",
        "\n",
        "test_datagen = ImageDataGenerator(rescale=1./255)\n",
        "\n",
        "train_generator = train_datagen.flow_from_directory(\n",
        "        train_dir,\n",
        "        target_size=(150, 150),\n",
        "        batch_size=32,\n",
        "        class_mode='binary')\n",
        "\n",
        "validation_generator = test_datagen.flow_from_directory(\n",
        "        validation_dir,\n",
        "        target_size=(150, 150),\n",
        "        batch_size=32,\n",
        "        class_mode='binary')\n",
        "\n",
        "history_aug = model_aug.fit_generator(train_generator, steps_per_epoch=100, epochs=60, \n",
        "                                      validation_data=validation_generator, validation_steps=50, verbose=0)"
      ],
      "execution_count": null,
      "outputs": []
    },
    {
      "cell_type": "code",
      "metadata": {
        "id": "D0VvxFKZgS6V",
        "colab_type": "code",
        "colab": {}
      },
      "source": [
        "model_aug.save('model_aug.h5')\n",
        "save_history(history_aug, 'history_aug.bin')"
      ],
      "execution_count": null,
      "outputs": []
    },
    {
      "cell_type": "code",
      "metadata": {
        "id": "3vTebpOvgW1E",
        "colab_type": "code",
        "colab": {}
      },
      "source": [
        "history_aug = load_history('history_aug.bin')\n",
        "plot_compare(history_aug, steps=50)"
      ],
      "execution_count": null,
      "outputs": []
    }
  ]
}